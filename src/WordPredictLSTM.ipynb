{
 "cells": [
  {
   "cell_type": "code",
   "execution_count": 108,
   "metadata": {},
   "outputs": [],
   "source": [
    "import numpy as np\n",
    "import tensorflow as tf\n",
    "from sklearn.model_selection import train_test_split\n",
    "from Utilfuns import read_file, words_index, get_total_words, input_seq, get_max_seq_len, print_input_seq, add_padding_pre\n",
    "from Utilfuns import predict_next_word\n"
   ]
  },
  {
   "cell_type": "markdown",
   "metadata": {},
   "source": [
    "## Text Preprocessing"
   ]
  },
  {
   "cell_type": "code",
   "execution_count": 109,
   "metadata": {},
   "outputs": [
    {
     "name": "stdout",
     "output_type": "stream",
     "text": [
      "-------File Data----------\n",
      " what is the purpose of form i-485?\n",
      "form i-485, application to register permanent residence or adjust status, is used by a person in the united states to\n",
      "apply for lawful permanent resident status. throughout these instructions, we will sometimes refer to form i-485 as an\n",
      "application for adjustment of status or as an adjustment application.\n",
      "who may file form i-485?\n",
      "the immigration and nationality act (ina) and certain other federal laws provide many different ways to adjust status to\n",
      "that of a la\n",
      "-------  Tokens ----------\n",
      " {'the': 1, 'of': 2, 'you': 3, 'or': 4, 'a': 5, 'to': 6, 'and': 7, 'form': 8, 'i': 9, 'your': 10, 'in': 11, 'for': 12, 'if': 13, 'evidence': 14, 'are': 15, 'not': 16, '485': 17, 'may': 18, 'that': 19, 'is': 20, 'submit': 21, 'as': 22, 'must': 23, 'status': 24, 'uscis': 25, 'united': 26, 'an': 27, 'states': 28, 'with': 29, '1': 30, 'information': 31, 'on': 32, 'under': 33, 'application': 34, 'at': 35, 'this': 36, 'any': 37, 'instructions': 38, 'have': 39, 'immigrant': 40, 'file': 41, 'section': 42, 'by': 43, 'u': 44, 'from': 45, 'category': 46, 'principal': 47, 'other': 48, 'adjustment': 49, '2': 50, 'applicants': 51, 'applicant': 52, 'do': 53, 'filing': 54, 'nonimmigrant': 55, 's': 56, 'after': 57, 'were': 58, 'who': 59, 'provide': 60, 'derivative': 61, 'also': 62, 'based': 63, 'additional': 64, 'time': 65, 'be': 66, 'visa': 67, 'will': 68, 'support': 69, 'more': 70, 'spouse': 71, '8': 72, 'birth': 73, 'immigration': 74, 'page': 75, 'see': 76, 'available': 77, 'physical': 78, 'requirements': 79, 'part': 80, '24': 81, 'apply': 82, 'ina': 83, 'family': 84, 'number': 85, '41': 86, 'continuous': 87, 'need': 88, 'document': 89, 'certain': 90, '04': 91, '01': 92, 'certificate': 93, 'gov': 94, 'www': 95, 'years': 96, 'g': 97, 'specific': 98, 'should': 99, 'documentation': 100, 'presence': 101, '3': 102, 'was': 103, 'item': 104, '360': 105, 'records': 106, 'permanent': 107, 'listed': 108, 'include': 109, 'all': 110, 'required': 111, 'lawful': 112, 'approved': 113, 'such': 114, 'showing': 115, 'child': 116, 'j': 117, 'financial': 118, 'petition': 119, 'before': 120, 'court': 121, 'assistance': 122, 'c': 123, 'only': 124, 'address': 125, 'but': 126, 'special': 127, 'when': 128, '4': 129, 'request': 130, 'employment': 131, 'investigation': 132, 'qualifying': 133, 'residence': 134, 'addition': 135, 'b': 136, 'one': 137, 'about': 138, 'filed': 139, 'including': 140, 'prosecution': 141, 'what': 142, 'resident': 143, 'cuban': 144, 'act': 145, 'card': 146, 'law': 147, 'waiver': 148, 'issued': 149, 'parent': 150, 'criminal': 151, 'parole': 152, 'citizen': 153, 'extreme': 154, 'we': 155, 'eligible': 156, 'been': 157, 'diplomatic': 158, 'date': 159, 'documents': 160, 'record': 161, 'show': 162, 'refugee': 163, 'person': 164, 'present': 165, 'whether': 166, 'age': 167, 'limited': 168, 'into': 169, 'e': 170, 'foreign': 171, 'immediately': 172, 'complete': 173, 'copy': 174, 'admitted': 175, 'public': 176, 'requests': 177, 'has': 178, 'members': 179, 'meet': 180, 'can': 181, 'year': 182, '130': 183, 'it': 184, 'victim': 185, 't': 186, 'job': 187, 'these': 188, 'eligibility': 189, 'some': 190, 'which': 191, 'their': 192, 'protection': 193, 'however': 194, '140': 195, 'travel': 196, 'does': 197, '6': 198, 'adjust': 199, 'physically': 200, 'while': 201, '245': 202, 'requirement': 203, 'name': 204, 'original': 205, 'dhs': 206, '94': 207, 'departure': 208, 'period': 209, 'marriage': 210, 'medical': 211, 'caa': 212, 'affidavit': 213, 'dv': 214, 'applying': 215, 'inadmissibility': 216, 'signature': 217, 'return': 218, '5': 219, 'passport': 220, 'national': 221, 'visit': 222, 'contact': 223, 'therefore': 224, 'state': 225, 'security': 226, 'country': 227, 'affidavits': 228, 'relationship': 229, 'website': 230, 'green': 231, 'appropriate': 232, '21': 233, 'admission': 234, 'forms': 235, 'supplement': 236, 'order': 237, 'granted': 238, 'until': 239, 'pending': 240, 'note': 241, 'alien': 242, 'than': 243, 'first': 244, '693': 245, 'hardship': 246, 'numbers': 247, 'applicant’s': 248, 'd': 249, 'dos': 250, 'notice': 251, 'social': 252, 'income': 253, 'preference': 254, 'unless': 255, 'provided': 256, 'place': 257, 'copies': 258, 'trafficking': 259, 'why': 260, 'two': 261, 'together': 262, 'abused': 263, 'hrifa': 264, 'citizenship': 265, 'otherwise': 266, 'type': 267, 'children': 268, 'categories': 269, 'unmarried': 270, 'acts': 271, 'following': 272, 'entry': 273, 'no': 274, 'applicable': 275, 'appointment': 276, 'good': 277, 'program': 278, 'government': 279, '11': 280, 'least': 281, 'since': 282, 'reasonable': 283, 'nationality': 284, 'example': 285, 'immediate': 286, 'nationals': 287, 'general': 288, 'use': 289, 'cfr': 290, 'individuals': 291, 'they': 292, 'service': 293, '13': 294, 'charge': 295, 'paroled': 296, 'establish': 297, 'factors': 298, 'member': 299, 'would': 300, 'decision': 301, '14': 302, 'born': 303, 'obtain': 304, 'juvenile': 305, 'organization': 306, 'household': 307, 'list': 308, 'please': 309, 'examination': 310, 'enforcement': 311, 'moral': 312, 'character': 313, 'federal': 314, 'discretion': 315, 'box': 316, 'each': 317, 'how': 318, 'approval': 319, 'authority': 320, '7': 321, 'photocopy': 322, 'require': 323, '10': 324, 'answer': 325, 'then': 326, '12': 327, 'benefit': 328, 'completed': 329, 'school': 330, 'religious': 331, 'spouses': 332, 'certified': 333, 'agency': 334, 'nato': 335, 'compliance': 336, 'battery': 337, 'cruelty': 338, 'being': 339, 'activity': 340, 'even': 341, 'select': 342, 'generally': 343, 'grounds': 344, 'complied': 345, 'legal': 346, 'adjudication': 347, 'deny': 348, 'requested': 349, 'during': 350, '18': 351, 'its': 352, 'within': 353, 'work': 354, 'arrival': 355, 'received': 356, 'certificates': 357, 'long': 358, 'statement': 359, 'haitian': 360, 'termination': 361, 'workers': 362, 'lottery': 363, 'relative': 364, 'days': 365, 'arrest': 366, 'adverse': 367, '1367': 368, 'prohibition': 369, 'harm': 370, 'reports': 371, 'cuba': 372, 'signed': 373, 'violence': 374, 'vawa': 375, 'inadmissible': 376, 'approve': 377, 'currently': 378, 'final': 379, 'sign': 380, 'consider': 381, 'maintained': 382, 'authorized': 383, 'full': 384, 'selective': 385, 'current': 386, 'receipt': 387, 'f': 388, 'new': 389, 'described': 390, 'having': 391, 'sources': 392, 'secondary': 393, 'knowledge': 394, 'inspection': 395, 'inspected': 396, 'death': 397, 'above': 398, 'international': 399, 'offer': 400, 'portability': 401, '864': 402, 'interest': 403, 'asylee': 404, 'severe': 405, 'allowed': 406, 'abusive': 407, 'register': 408, '”': 409, 'services': 410, 'processes': 411, 'individual': 412, 'read': 413, 'determine': 414, 'still': 415, 'qualify': 416, 'print': 417, 'center': 418, 'hearing': 419, 'every': 420, 'able': 421, 'subject': 422, 'make': 423, '212': 424, 'exchange': 425, 'rights': 426, 'privileges': 427, 'immunities': 428, 'cannot': 429, 'through': 430, 'behalf': 431, 'office': 432, 'certification': 433, 'where': 434, 'change': 435, 'system': 436, 'both': 437, 'cbp': 438, 'regardless': 439, 'circumstances': 440, 'exist': 441, 'benefits': 442, 'assist': 443, 'unavailable': 444, 'similar': 445, 'relating': 446, 'officer': 447, 'registry': 448, 'self': 449, 'k': 450, 'fiancé': 451, 'officials': 452, '204': 453, 'report': 454, 'police': 455, 'comply': 456, 'examples': 457, 'threats': 458, 'policy': 459, 'employees': 460, 'bars': 461, 'citizens': 462, 'https': 463, 'another': 464, 'relief': 465, 'visitor': 466, 'letter': 467, 'nonimmigrants': 468, 'result': 469, 'exemptions': 470, 'provides': 471, 'there': 472, 'asylees': 473, 'refugees': 474, 'longer': 475, 'valid': 476, 'interview': 477, 'verify': 478, 'check': 479, 'necessary': 480, 'submitted': 481, 'local': 482, 'already': 483, '9': 484, 'explanation': 485, 'safe': 486, 'human': 487, 'attorney': 488, 'ssa': 489, 'ever': 490, 'enter': 491, 'confidentiality': 492, 'l': 493, 'native': 494, 'five': 495, '68': 496, '•': 497, 'dependent': 498, 'conviction': 499, 'claim': 500, 'acceptable': 501, '131': 502, 'except': 503, 'prove': 504, 'relevant': 505, 'proof': 506, 'second': 507, 'third': 508, 'seeking': 509, 'disposition': 510, 'formal': 511, 'case': 512, 'once': 513, 'wait': 514, 'involving': 515, 'unusual': 516, 'persons': 517, 'january': 518, 'purpose': 519, 'many': 520, 'procedures': 521, 'own': 522, 'beneficiary': 523, 'same': 524, 'registration': 525, 'call': 526, '800': 527, 'against': 528, 'basis': 529, 'ground': 530, 'favorable': 531, 'approves': 532, 'our': 533, 'determines': 534, 'biometric': 535, 'background': 536, 'language': 537, 'questions': 538, 'requires': 539, '15': 540, 'account': 541, 'previously': 542, 'crime': 543, 'regarding': 544, 'ssn': 545, '17': 546, '30': 547, 'inches': 548, 'weight': 549, 'residing': 550, 'tax': 551, 'determinations': 552, 'yourself': 553, 'accredited': 554, 'parties': 555, 'personal': 556, 'civil': 557, 'written': 558, '797': 559, 'worker': 560, 'classification': 561, 'because': 562, 'petitioner': 563, 'charges': 564, 'official': 565, 'submitting': 566, 'eoir': 567, 'advance': 568, 'disclosure': 569, 'older': 570, 'sons': 571, 'daughters': 572, 'continue': 573, 'sufficient': 574, 'maintain': 575, 'de': 576, 'union': 577, 'fiscal': 578, 'used': 579, 'laws': 580, 'purposes': 581, 'relatives': 582, 'using': 583, 'conditions': 584, 'entered': 585, 'mail': 586, 'properly': 587, 'guardian': 588, 'fee': 589, 'identity': 590, 'overseas': 591, 'dependents': 592, 'without': 593, 'them': 594, 'paper': 595, 'online': 596, 'oan': 597, 'find': 598, 'issue': 599, '“yes”': 600, '16': 601, 'either': 602, 'american': 603, 'included': 604, 'origins': 605, 'vietnam': 606, 'height': 607, 'color': 608, 'parents': 609, 'experience': 610, 'educational': 611, 'institutionalization': 612, 'had': 613, 'interpreter': 614, 'telephone': 615, 'his': 616, 'her': 617, 'business': 618, 'penalty': 619, 'processing': 620, 'related': 621, 'primary': 622, 'explain': 623, 'types': 624, 'demonstrate': 625, 'afghan': 626, 'iraqi': 627, 'pages': 628, '180': 629, '129f': 630, 'vaccination': 631, 'anywhere': 632, 'committed': 633, 'deportation': 634, 'removal': 635, 'proceedings': 636, 'made': 637, 'resided': 638, 'asylum': 639, 'authorities': 640, 'collection': 641, 'burden': 642, 'son': 643, 'daughter': 644, 'protections': 645, 'critical': 646, 'solely': 647, 'abuser': 648, 'prohibited': 649, 'very': 650, 'high': 651, 'victimization': 652, 'establishing': 653, 'attesting': 654, 'credible': 655, 'reasons': 656, '918': 657, 'personnel': 658, '31': 659, 'abuse': 660, 'denied': 661, 'selection': 662, 'education': 663, '1972': 664, 'depending': 665, 'go': 666, 'furthermore': 667, 'cases': 668, 'qualified': 669, 'main': 670, 'beneficiaries': 671, 'called': 672, 'allow': 673, 'definition': 674, 'parolee': 675, 'ineligible': 676, 'exemption': 677, 'my': 678, 'exception': 679, 'separate': 680, 'diversity': 681, 'conduct': 682, 'recommendation': 683, 'occupation': 684, 'hold': 685, 'those': 686, 'availability': 687, 'remains': 688, 'free': 689, 'access': 690, '325a': 691, '103': 692, 'supporting': 693, 'appear': 694, 'biometrics': 695, 'making': 696, 'outside': 697, 'contained': 698, 'correct': 699, 'judge': 700, 'failure': 701, 'process': 702, 'receive': 703, 'english': 704, 'most': 705, 'military': 706, 'review': 707, 'confirm': 708, 'space': 709, 'top': 710, 'married': 711, 'response': 712, 'departed': 713, 'receiving': 714, 'alternative': 715, 'preparer': 716, 'replacement': 717, 'completing': 718, 'expired': 719, 'ethnicity': 720, 'race': 721, 'best': 722, 'peoples': 723, 'cambodia': 724, 'manual': 725, 'volume': 726, 'includes': 727, '101': 728, 'cash': 729, 'programs': 730, 'maintenance': 731, 'illegal': 732, 'believe': 733, 'someone': 734, 'contain': 735, 'anyone': 736, 'associated': 737, 'representative': 738, '28': 739, 'perjury': 740, 'unable': 741, 'photographs': 742, 'although': 743, 'nonexistent': 744, 'petitioners': 745, 'claimed': 746, 'adoption': 747, 'confirmation': 748, 'bona': 749, 'fide': 750, 'ability': 751, 'occupational': 752, 'specified': 753, 'offered': 754, 'widow': 755, '864w': 756, 'wish': 757, 'world': 758, 'probation': 759, 'deferred': 760, 'transcript': 761, 'adult': 762, 'fact': 763, 'did': 764, 'less': 765, 'involved': 766, '508': 767, '508f': 768, 'french': 769, '33': 770, 'determination': 771, '90': 772, 'day': 773, 'deceased': 774, 'former': 775, 'needed': 776, 'worked': 777, 'entrepreneur': 778, 'victims': 779, 'suffer': 780, 'three': 781, 'matter': 782, 'length': 783, 'contains': 784, 'receipts': 785, 'absence': 786, 'stating': 787, 'describing': 788, 'articles': 789, 'ongoing': 790, 'becomes': 791, 'existed': 792, 'non': 793, 'demonstrating': 794, 'december': 795, 'departures': 796, 'october': 797, 'soviet': 798, 'lautenberg': 799, 'selectee': 800, 'throughout': 801, 'often': 802, 'vary': 803, 'he': 804, 'she': 805, 'files': 806, 'details': 807, 'considered': 808, 'provisions': 809, 'cspa': 810, 'immigrants': 811, '375': 812, '5283': 813, 'tty': 814, '767': 815, '1833': 816, 'sections': 817, 'exempt': 818, 'known': 819, 'dates': 820, 'content': 821, 'visas': 822, 'view': 823, 'version': 824, 'biographic': 825, 'parts': 826, 'formerly': 827, 'accept': 828, 'stamped': 829, 'typewritten': 830, 'reject': 831, 'containing': 832, 'photograph': 833, 'checks': 834, 'send': 835, 'location': 836, 'true': 837, 'printed': 838, 'means': 839, 'acknowledgement': 840, 'sending': 841, 'black': 842, 'sheet': 843, 'indicate': 844, 'question': 845, 'names': 846, 'home': 847, 'community': 848, 'employer': 849, 'uses': 850, 'verification': 851, 'pub': 852, '106': 853, 'share': 854, 'electronic': 855, 'instead': 856, 'initial': 857, 'providing': 858, 'tribal': 859, 'east': 860, 'white': 861, 'feet': 862, 'pounds': 863, 'hair': 864, 'out': 865, 'exclude': 866, 'context': 867, 'drug': 868, 'total': 869, 'assets': 870, 'liabilities': 871, 'skills': 872, 'training': 873, 'professions': 874, 'past': 875, 'assisted': 876, 'rehabilitation': 877, 'resources': 878, 'below': 879, 'applies': 880, 'delay': 881, 'sworn': 882, 'sought': 883, 'photos': 884, 'lists': 885, 'unavailability': 886, 'nonexistence': 887, 'shows': 888, 'governmental': 889, 'facts': 890, 'juveniles': 891, 'm': 892, 'course': 893, 'statements': 894, 'prior': 895, 'divorce': 896, '20': 897, 'ds': 898, 'fourth': 899, 'extraordinary': 900, 'intent': 901, 'er': 902, 'classifications': 903, 'so': 904, 'arrests': 905, 'reason': 906, 'indictment': 907, 'charging': 908, 'rehabilitative': 909, 'treatment': 910, 'incident': 911, 'removed': 912, 'delinquency': 913, 'establishes': 914, 'items': 915, 'stamps': 916, '566': 917, 'interagency': 918, 'notify': 919, 'previous': 920, 'established': 921, 'brief': 922, 'grant': 923, 'upon': 924, '209': 925, 're': 926, '214': 927, 'control': 928, 'camp': 929, 'well': 930, 'always': 931, '19': 932, 'died': 933, 'end': 934, 'makes': 935, 'employee': 936, 'officers': 937, 'equivalent': 938, 'dated': 939, 'entire': 940, 'continued': 941, 'attest': 942, 'trips': 943, 'failed': 944, 'condition': 945, '929': 946, 'refused': 947, 'witnesses': 948, 'identifying': 949, 'granting': 950, 'reside': 951, 'paroles': 952, 'occur': 953, '1995': 954, 'absences': 955, 'indochinese': 956, 'laos': 957, 'september': 958, '247': 959, 'blue': 960, 'sometimes': 961, 'ways': 962, 'referred': 963, 'directly': 964, 'applicant”': 965, '“derivative': 966, 'designate': 967, 'selecting': 968, 'found': 969, '“child”': 970, 'armed': 971, 'forces': 972, 'physicians': 973, 'private': 974, 'deaf': 975, 'hard': 976, 'get': 977, 'might': 978, 'explore': 979, 'options': 980, 'outlined': 981, 'department': 982, 'priority': 983, 'en': 984, 'bulletin': 985, 'html': 986, 'concurrent': 987, 'times': 988, 'obtained': 989, 'latest': 990, 'adobe': 991, 'reader': 992, 'internet': 993, 'signing': 994, 'incompetent': 995, 'accepts': 996, 'validity': 997, 'handwritten': 998, 'fax': 999, 'ink': 1000, '1055': 1001, 'fees': 1002, 'instruct': 1003, 'fail': 1004, 'attend': 1005, 'cause': 1006, 'abandoned': 1007, 'photocopies': 1008, 'needs': 1009, 'translation': 1010, 'spanish': 1011, 'disability': 1012, 'between': 1013, '26': 1014, 'post': 1015, 'avoid': 1016, 'asks': 1017, 'directed': 1018, 'none': 1019, '“how': 1020, 'begins': 1021, 'ioe': 1022, 'mailed': 1023, 'us': 1024, 'alternate': 1025, 'mailing': 1026, 'friend': 1027, 'administration': 1028, 'assign': 1029, 'legally': 1030, '553': 1031, 'life': 1032, 'amended': 1033, 'amendments': 1034, 'border': 1035, 'airport': 1036, 'seaport': 1037, 'april': 1038, '2013': 1039, '102': 1040, 'asc': 1041, 'describe': 1042, 'south': 1043, 'central': 1044, 'indian': 1045, 'north': 1046, 'america': 1047, 'asia': 1048, 'islands': 1049, 'thailand': 1050, 'africa': 1051, 'pacific': 1052, 'eye': 1053, 'describes': 1054, 'eyes': 1055, '62': 1056, 'chapter': 1057, 'defined': 1058, 'supplemental': 1059, 'ssi': 1060, 'temporary': 1061, 'needy': 1062, 'families': 1063, 'tanf': 1064, 'territorial': 1065, '“general': 1066, 'assistance”': 1067, 'activities': 1068, 'proceeds': 1069, 'gambling': 1070, 'sales': 1071, 'value': 1072, 'owned': 1073, 'licenses': 1074, 'skilled': 1075, 'institution': 1076, 'study': 1077, 'table': 1078, 'term': 1079, 'expense': 1080, 'future': 1081, 'periods': 1082, 'violated': 1083, 'disabilities': 1084, 'impact': 1085, 'declaration': 1086, 'further': 1087, 'daytime': 1088, 'mobile': 1089, 'email': 1090, 'preparing': 1091, 'helped': 1092, 'prepare': 1093, 'applications': 1094, 'authorization': 1095, 'church': 1096, 'face': 1097, 'head': 1098, 'measure': 1099, 'bottom': 1100, 'denomination': 1101, 'typically': 1102, 'driver’s': 1103, 'license': 1104, 'resource': 1105, 'explaining': 1106, 'stamp': 1107, 'came': 1108, 'inspector': 1109, 'asked': 1110, 'underlying': 1111, 'fairness': 1112, 'continuously': 1113, 'maintaining': 1114, 'notices': 1115, 'changes': 1116, 'student': 1117, 'students': 1118, 'notations': 1119, '2019': 1120, 'iap': 1121, '66': 1122, 'exempted': 1123, 'field': 1124, '“port”': 1125, 'position': 1126, 'likely': 1127, 'become': 1128, '213a': 1129, 'health': 1130, 'designated': 1131, 'surgeon': 1132, 'convictions': 1133, 'arrested': 1134, 'detained': 1135, 'charged': 1136, 'convicted': 1137, 'sentencing': 1138, 'plea': 1139, 'agreement': 1140, 'recording': 1141, 'set': 1142, 'aside': 1143, 'resulted': 1144, 'traffic': 1145, '500': 1146, 'possible': 1147, '1746': 1148, 'exclusion': 1149, '601': 1150, '602': 1151, 'held': 1152, 'ended': 1153, 'addresschange': 1154, 'ic': 1155, 'lockbox': 1156, 'leave': 1157, 'h': 1158, 'v': 1159, 'k3': 1160, 'k4': 1161, 'abroad': 1162, 'voluntary': 1163, '249': 1164, 'lawfully': 1165, 'ensure': 1166, 'penalties': 1167, 'reviewing': 1168, 'correspondence': 1169, 'site': 1170, 'people': 1171, 'opportunity': 1172, 'derogatory': 1173, 'privacy': 1174, 'routine': 1175, 'agencies': 1176, 'omb': 1177, 'estimated': 1178, 'hours': 1179, 'per': 1180, 'residents': 1181, 'requisite': 1182, 'dying': 1183, 'niw': 1184, 'physician': 1185, 'area': 1186, 'determined': 1187, '526': 1188, 'investor': 1189, 'working': 1190, 'derivatives': 1191, 'sunset': 1192, 'eb': 1193, '27': 1194, 'considers': 1195, 'actually': 1196, 'arrived': 1197, 'afghanistan': 1198, 'employed': 1199, 'isaf': 1200, '22': 1201, 'retired': 1202, 'greencard': 1203, '914': 1204, 'met': 1205, '23': 1206, 'warranted': 1207, 'single': 1208, 'significant': 1209, 'chronological': 1210, 'gaps': 1211, 'manner': 1212, 'plane': 1213, 'boat': 1214, 'etc': 1215, 'nongovernmental': 1216, 'normal': 1217, 'seal': 1218, 'authenticating': 1219, 'instrument': 1220, 'issuing': 1221, 'returns': 1222, 'attended': 1223, 'installment': 1224, 'payments': 1225, 'series': 1226, 'monthly': 1227, 'rent': 1228, 'utility': 1229, 'bills': 1230, 'given': 1231, '213': 1232, 'deportable': 1233, 'others': 1234, 'hand': 1235, 'alone': 1236, 'trip': 1237, 'lasted': 1238, 'multiple': 1239, 'exceeded': 1240, 'justified': 1241, 'according': 1242, 'responsible': 1243, 'lack': 1244, 'news': 1245, 'assisting': 1246, 'consult': 1247, 'economic': 1248, 'automatic': 1249, 'bear': 1250, 'discretionary': 1251, 'take': 1252, 'ties': 1253, 'offset': 1254, 'confirms': 1255, 'exists': 1256, 'despite': 1257, 'refusal': 1258, 'unreasonably': 1259, 'newly': 1260, 'executed': 1261, 'certifying': 1262, 'unreasonable': 1263, 'terminated': 1264, 'independently': 1265, '1959': 1266, 'began': 1267, 'became': 1268, 'demonstrates': 1269, 'unexpired': 1270, 'pasaporte': 1271, 'la': 1272, 'republica': 1273, 'consular': 1274, 'admissibility': 1275, 'point': 1276, 'connected': 1277, 'intentional': 1278, 'consensual': 1279, 'harmful': 1280, 'offensive': 1281, 'towards': 1282, 'rape': 1283, 'molestation': 1284, 'forced': 1285, 'prostitution': 1286, 'punching': 1287, 'biting': 1288, 'kidnapping': 1289, 'kicking': 1290, 'choking': 1291, 'sexual': 1292, 'pattern': 1293, 'gain': 1294, 'controlling': 1295, 'talk': 1296, 'denying': 1297, 'food': 1298, 'commit': 1299, 'suicide': 1300, 'subjected': 1301, 'judges': 1302, 'orders': 1303, 'witnessed': 1304, 'clergy': 1305, 'haven': 1306, 'shelter': 1307, 'injuries': 1308, 'lived': 1309, 'later': 1310, 'arrivals': 1311, 'acquired': 1312, 'haiti': 1313, 'naturalization': 1314, '1988': 1315, 'class': 1316, 'exam': 1317, 'semi': 1318, 'compelling': 1319, 'represented': 1320, 'regularly': 1321, 'duties': 1322, 'individual’s': 1323, 'missions': 1324, '1997': 1325, 'selected': 1326, 'diploma': 1327, 'successful': 1328, 'completion': 1329, 'elementary': 1330, 'equivalency': 1331, 'numerous': 1332, 'mortgage': 1333, 'deeds': 1334, 'leases': 1335, 'insurance': 1336, 'premiums': 1337, 'policies': 1338, 'bank': 1339, 'census': 1340, 'newspaper': 1341, 'concerning': 1342, 'draft': 1343, 'car': 1344, 'registrations': 1345, 'membership': 1346, 'witness’': 1347, 'refer': 1348, 'different': 1349, 'informally': 1350, '“green': 1351, 'qualifies': 1352, '“principal': 1353, 'usually': 1354, 'named': 1355, 'few': 1356, 'guidance': 1357, 'tools': 1358, 'glossary': 1359, '“child': 1360, 'turning': 1361, '“other': 1362, 'eligibility”': 1363, 'panama': 1364, 'canal': 1365, 'zone': 1366, 'polish': 1367, 'hungarian': 1368, 'bill': 1369, 'presumption': 1370, 'like': 1371, 'women': 1372, 'adjusting': 1373, 'titled': 1374, '“instructions': 1375, 'itself': 1376, 'specify': 1377, 'fall': 1378, 'visitors': 1379, 'entitle': 1380, '“concurrent': 1381, 'filing”': 1382, 'download': 1383, 'http': 1384, 'com': 1385, 'ask': 1386, 'collecting': 1387, 'biographical': 1388, 'relates': 1389, 'mentally': 1390, 'ii': 1391, 'deficient': 1392, 'signatures': 1393, 'photocopied': 1394, 'faxed': 1395, 'scanned': 1396, 'scan': 1397, 'fingerprints': 1398, 'history': 1399, 'bureau': 1400, 'fbi': 1401, 'embassy': 1402, 'consulate': 1403, 'schedule': 1404, 'oath': 1405, 'reaffirming': 1406, 'reviewed': 1407, 'understood': 1408, 'finding': 1409, 'legible': 1410, 'specifically': 1411, 'destroy': 1412, 'translations': 1413, 'translator': 1414, 'accurate': 1415, 'competent': 1416, 'translate': 1417, 'contactcenter': 1418, 'accommodations': 1419, 'modifications': 1420, 'accommodation': 1421, 'modification': 1422, 'follow': 1423, 'accommodationsinfo': 1424, 'males': 1425, 'men': 1426, 'sss': 1427, 'registered': 1428, 'duplication': 1429, 'understand': 1430, 'legibly': 1431, 'extra': 1432, 'attach': 1433, 'refers': 1434, 'fully': 1435, 'accurately': 1436, 'never': 1437, '“provide': 1438, 'spouse”': 1439, '“n': 1440, 'numeric': 1441, 'zero': 1442, 'have”': 1443, 'states”': 1444, '“none': 1445, '“stateless”': 1446, 'profile': 1447, 'sent': 1448, 'feel': 1449, 'helping': 1450, 'safely': 1451, 'timely': 1452, 'officially': 1453, 'maiden': 1454, 'want': 1455, 'optional': 1456, 'assigned': 1457, 'employees’': 1458, 'compared': 1459, 'data': 1460, 'databases': 1461, 'existing': 1462, '1255a': 1463, 'legalization': 1464, '245a': 1465, '544': 1466, 'covered': 1467, 'waive': 1468, 'customs': 1469, 'stay': 1470, 'expires': 1471, 'shown': 1472, 'versions': 1473, 'i94': 1474, 'travelers': 1475, 'land': 1476, 'reduce': 1477, 'spend': 1478, 'boxes': 1479, 'definitions': 1480, 'hispanic': 1481, 'latino': 1482, 'mexican': 1483, 'puerto': 1484, 'rican': 1485, 'culture': 1486, 'origin': 1487, 'alaska': 1488, 'maintains': 1489, 'affiliation': 1490, 'attachment': 1491, 'asian': 1492, 'far': 1493, 'southeast': 1494, 'subcontinent': 1495, 'china': 1496, 'india': 1497, 'japan': 1498, 'korea': 1499, 'malaysia': 1500, 'pakistan': 1501, 'philippine': 1502, 'african': 1503, 'racial': 1504, 'groups': 1505, 'hawaiian': 1506, 'islander': 1507, 'hawaii': 1508, 'guam': 1509, 'samoa': 1510, 'europe': 1511, 'middle': 1512, 'values': 1513, 'match': 1514, 'nine': 1515, '“5”': 1516, '“09”': 1517, 'meters': 1518, 'centimeters': 1519, 'know': 1520, 'over': 1521, '699': 1522, '“000': 1523, 'kilograms': 1524, 'think': 1525, '“no': 1526, 'unsure': 1527, 'events': 1528, '61': 1529, 'size': 1530, 'siblings': 1531, '63': 1532, 'household’s': 1533, 'annual': 1534, 'alimony': 1535, '64': 1536, '65': 1537, 'secured': 1538, 'unsecured': 1539, 'owed': 1540, '67': 1541, 'certifications': 1542, 'workforce': 1543, 'occupations': 1544, 'documenting': 1545, 'mastery': 1546, 'apprenticeships': 1547, 'trades': 1548, 'provider': 1549, 'certify': 1550, 'dollar': 1551, 'amount': 1552, 'asking': 1553, 'words': 1554, 'applied': 1555, 'city': 1556, 'imprisonment': 1557, 'short': 1558, 'web': 1559, 'ithbd': 1560, 'tssboclint': 1561, 'indicating': 1562, 'interpreter’s': 1563, 'fluent': 1564, 'fill': 1565, 'acted': 1566, 'obliged': 1567, 'appearance': 1568, 'along': 1569, 'recommend': 1570, 'attestation': 1571, 'faith': 1572, 'accordance': 1573, '765': 1574, 'affirmed': 1575, 'direct': 1576, 'event': 1577, 'identical': 1578, 'style': 1579, 'taken': 1580, 'recently': 1581, 'off': 1582, 'thin': 1583, 'glossy': 1584, 'finish': 1585, 'unmounted': 1586, 'unretouched': 1587, 'frontal': 1588, 'chin': 1589, 'photo': 1590, 'bare': 1591, 'wearing': 1592, 'headwear': 1593, 'pencil': 1594, 'felt': 1595, 'pen': 1596, 'lightly': 1597, 'back': 1598, 'now': 1599, 'identification': 1600, 'look': 1601, 'up': 1602, 'reciprocity': 1603, 'anything': 1604, 'hospital': 1605, 'relate': 1606, 'recent': 1607, 'produce': 1608, 'presume': 1609, 'ordinary': 1610, 'detail': 1611, 'showed': 1612, 'particular': 1613, 'allows': 1614, '551': 1615, 'took': 1616, 'party': 1617, 'marriages': 1618, 'explained': 1619, 'parents’': 1620, 'barred': 1621, 'broadcasters': 1622, 'selectees': 1623, 'extensions': 1624, 'printouts': 1625, 'paperless': 1626, 'admissions': 1627, 'academic': 1628, 'vocational': 1629, 'spent': 1630, 'bar': 1631, 'percent': 1632, '203': 1633, 'tied': 1634, 'intend': 1635, 'confirming': 1636, 'financially': 1637, 'living': 1638, 'indefinitely': 1639, 'amerasian': 1640, 'relation': 1641, 'intending': 1642, 'immigrant’s': 1643, 'immunity': 1644, 'perform': 1645, 'results': 1646, 'choose': 1647, 'waiting': 1648, 'repeat': 1649, 'arresting': 1650, 'detaining': 1651, 'prosecutor’s': 1652, 'indicates': 1653, 'detention': 1654, 'dismissal': 1655, 'acquittal': 1656, 'placed': 1657, 'mandated': 1658, 'sentence': 1659, 'vacated': 1660, 'sealed': 1661, 'expunged': 1662, 'vacating': 1663, 'setting': 1664, 'sealing': 1665, 'expunging': 1666, 'removing': 1667, 'disclose': 1668, 'occurred': 1669, 'minor': 1670, '“conviction”': 1671, 'offense': 1672, 'tried': 1673, 'could': 1674, 'exercise': 1675, 'fines': 1676, 'incidents': 1677, 'involve': 1678, 'actual': 1679, 'fine': 1680, 'points': 1681, 'alcohol': 1682, 'drugs': 1683, 'injury': 1684, 'property': 1685, 'custodian': 1686, 'depends': 1687, 'admissible': 1688, 'seek': 1689, 'eliminate': 1690, 'learn': 1691, 'waivers': 1692, 'reading': 1693, 'permission': 1694, 'reapply': 1695, 'excludability': 1696, '612': 1697, 'enjoy': 1698, 'served': 1699, '221': 1700, '122': 1701, '862': 1702, '863': 1703, 'referral': 1704, 'pre': 1705, 'investigations': 1706, 'moving': 1707, 'changing': 1708, 'alien’s': 1709, 'justice': 1710, 'listing': 1711, 'completeness': 1712, 'originals': 1713, 'update': 1714, 'involves': 1715, 'writing': 1716, 'visits': 1717, 'canada': 1718, 'mexico': 1719, 'depart': 1720, 'port': 1721, 'warning': 1722, 'availment': 1723, 'abandon': 1724, 'traveling': 1725, 'knowingly': 1726, 'willfully': 1727, 'falsify': 1728, 'conceal': 1729, 'material': 1730, 'false': 1731, 'monitoring': 1732, 'stated': 1733, 'authorize': 1734, 'release': 1735, 'consent': 1736, 'verifying': 1737, '1103': 1738, '1155': 1739, '1184': 1740, '205': 1741, 'decided': 1742, 'methods': 1743, 'contacting': 1744, 'transmission': 1745, 'unannounced': 1746, 'inspections': 1747, 'residences': 1748, 'locations': 1749, 'interviewing': 1750, 'assess': 1751, 'restrictions': 1752, 'initiated': 1753, 'action': 1754, 'rescission': 1755, 'revocation': 1756, 'collected': 1757, 'et': 1758, 'seq': 1759, 'regulations': 1760, 'denial': 1761, 'organizations': 1762, 'follows': 1763, 'published': 1764, '007': 1765, '001': 1766, 'index': 1767, 'tracking': 1768, 'paperwork': 1769, 'reduction': 1770, 'sponsor': 1771, 'respond': 1772, 'displays': 1773, 'management': 1774, 'budget': 1775, 'reporting': 1776, '987': 1777, 'minutes': 1778, 'gathering': 1779, 'attaching': 1780, 'comments': 1781, 'estimate': 1782, 'aspect': 1783, 'suggestions': 1784, 'reducing': 1785, 'strategy': 1786, 'regulatory': 1787, 'coordination': 1788, 'division': 1789, '5900': 1790, 'capital': 1791, 'gateway': 1792, 'drive': 1793, 'stop': 1794, '2140': 1795, 'springs': 1796, 'md': 1797, '20588': 1798, '0009': 1799, '1615': 1800, '0023': 1801, 'checklist': 1802, 'waived': 1803, 'li': 1804, 'discussed': 1805, 'here': 1806, 'brothers': 1807, 'sisters': 1808, 'marrying': 1809, 'widower': 1810, 'facilities': 1811, 'telephonic': 1812, 'petitioning': 1813, 'outstanding': 1814, 'professors': 1815, 'researchers': 1816, 'multinational': 1817, 'executives': 1818, 'managers': 1819, 'holding': 1820, 'advanced': 1821, 'degrees': 1822, 'exceptional': 1823, 'professionals': 1824, 'profit': 1825, 'entity': 1826, 'ownership': 1827, '“relative”': 1828, 'husband': 1829, 'wife': 1830, 'father': 1831, 'mother': 1832, 'brother': 1833, 'sister': 1834, 'typed': 1835, 'shortage': 1836, 'veterans': 1837, 'healthcare': 1838, 'facility': 1839, '120': 1840, 'ready': 1841, 'entrepreneurs': 1842, 'invested': 1843, 'actively': 1844, 'investing': 1845, 'million': 1846, '000': 1847, 'rural': 1848, 'unemployment': 1849, 'commercial': 1850, 'enterprise': 1851, 'economy': 1852, 'create': 1853, 'jobs': 1854, 'minister': 1855, 'professional': 1856, 'capacity': 1857, 'vocation': 1858, 'denomination’s': 1859, 'nonprofit': 1860, 'ministers': 1861, 'statutory': 1862, 'extend': 1863, 'findings': 1864, 'filling': 1865, 'iraq': 1866, 'coast': 1867, 'guard': 1868, 'translators': 1869, 'force': 1870, 'successor': 1871, 'mission': 1872, 'surviving': 1873, 'n': 1874, 'last': 1875, '914a': 1876, 'whichever': 1877, 'certifies': 1878, 'designee': 1879, 'clearance': 1880, 'locality': 1881, 'six': 1882, 'months': 1883, 'clearances': 1884, 'knowledgeably': 1885, '25': 1886, 'trial': 1887, 'transcripts': 1888, 'willingness': 1889, 'willing': 1890, 'suffered': 1891, 'trauma': 1892, 'excepted': 1893, 'alternatively': 1894, 'proving': 1895, 'higher': 1896, 'standard': 1897, 'standards': 1898, 'disruption': 1899, 'opportunities': 1900, 'traditional': 1901, 'continuation': 1902, 'bound': 1903, '918a': 1904, 'crimes': 1905, 'additionally': 1906, 'formed': 1907, 'continues': 1908, 'passports': 1909, 'taking': 1910, 'defines': 1911, '“refusal': 1912, 'prosecution”': 1913, 'refuse': 1914, 'adjudicates': 1915, 'letterhead': 1916, 'cooperate': 1917, 'efforts': 1918, 'reimbursement': 1919, 'description': 1920, 'instances': 1921, 'connection': 1922, 'responded': 1923, 'outcome': 1924, 'dropped': 1925, 'detailed': 1926, 'believed': 1927, 'incapacitated': 1928, 'next': 1929, '29': 1930, '571': 1931, 'holder’s': 1932, 'acknowledging': 1933, 'certificado': 1934, 'nacionalidad': 1935, 'carta': 1936, 'ciudadania': 1937, 'mentioned': 1938, '32': 1939, 'sole': 1940, 'give': 1941, 'spouse’s': 1942, 'annulled': 1943, 'closed': 1944, 'provision': 1945, 'starting': 1946, 'continuing': 1947, '“continuous”': 1948, 'totaled': 1949, 'aggregate': 1950, 'departing': 1951, 'returned': 1952, 'occurring': 1953, 'july': 1954, '1999': 1955, '34': 1956, 'addressing': 1957, 'parolees': 1958, 'humanitarian': 1959, '2012': 1960, 'portion': 1961, 'independent': 1962, 'countries': 1963, 'socialist': 1964, 'republics': 1965, 'estonia': 1966, 'latvia': 1967, 'lithuania': 1968, '35': 1969, 'diplomats': 1970, 'ranking': 1971, '1957': 1972, 'broader': 1973, 'blood': 1974, 'recognized': 1975, 'demonstrated': 1976, 'issuance': 1977, 'allowances': 1978, 'individually': 1979, 'performed': 1980, 'custodial': 1981, 'clerical': 1982, 'menial': 1983, 'failing': 1984, 'secretary': 1985, 'recognizes': 1986, 'entitled': 1987, 'terminates': 1988, '36': 1989, 'terminating': 1990, 'determining': 1991, '2008': 1992, 'terminate': 1993, 'consultation': 1994, 'merits': 1995, 'receives': 1996, '50': 1997, 'adjustments': 1998, 'due': 1999, 'category’s': 2000, 'numerical': 2001, 'limitation': 2002, '2000': 2003, 'orderly': 2004, 'odp': 2005, 'displaced': 2006, 'administered': 2007, 'nations': 2008, 'commissioner': 2009, 'unhcr': 2010, 'vietnamese': 2011, 'cambodian': 2012, 'laotian': 2013, '“selectee”': 2014, 'principal’s': 2015, '37': 2016, 'beginning': 2017, 'guarantee': 2018, 'adjudicate': 2019, 'encouraged': 2020, 'soon': 2021, 'originally': 2022, 'entering': 2023, 'natural': 2024, 'adopted': 2025, 'stepchild': 2026, 'occurs': 2027, 'comparable': 2028, 'courses': 2029, 'ged': 2030, 'requiring': 2031, '38': 2032, '39': 2033, 'dos’s': 2034, '“blue': 2035, 'list”': 2036, 'title': 2037, 'jurisdiction': 2038, 'fourteenth': 2039, 'amendment': 2040, 'constitution': 2041, 'embassies': 2042, 'tests': 2043, 'retained': 2044, '40': 2045}\n",
      "--------InputSeq----------\n",
      "what is\n",
      "what is the\n",
      "what is the purpose\n",
      "what is the purpose of\n",
      "what is the purpose of form\n",
      "------Max Seq length------\n",
      " 29\n",
      "-------PaddedSeq----------\n",
      "- - - - - - - - - - - - - - - - - - - - - - - - - - - what is\n",
      "- - - - - - - - - - - - - - - - - - - - - - - - - - what is the\n",
      "- - - - - - - - - - - - - - - - - - - - - - - - - what is the purpose\n",
      "- - - - - - - - - - - - - - - - - - - - - - - - what is the purpose of\n",
      "- - - - - - - - - - - - - - - - - - - - - - - what is the purpose of form\n"
     ]
    }
   ],
   "source": [
    "filepath = 'i-485instr.txt'\n",
    "# filepath = 'sample.txt'\n",
    "\n",
    "text = read_file(filepath)\n",
    "tokens = words_index(text)\n",
    "total_words = get_total_words(tokens)\n",
    "inputseq = input_seq(text,tokens)\n",
    "max_seq_len = get_max_seq_len(inputseq)\n",
    "pad_inputseq = add_padding_pre(inputseq)\n",
    "\n",
    "\n",
    "print('-------File Data----------\\n',text[:500]) \n",
    "print('-------  Tokens ----------\\n',tokens.word_index)  \n",
    "print('--------InputSeq----------')\n",
    "print_input_seq(inputseq[:5], tokens)\n",
    "print('------Max Seq length------\\n', max_seq_len)\n",
    "print('-------PaddedSeq----------')\n",
    "print_input_seq(pad_inputseq[:5], tokens)\n"
   ]
  },
  {
   "cell_type": "markdown",
   "metadata": {},
   "source": [
    "## Train Test Split"
   ]
  },
  {
   "cell_type": "code",
   "execution_count": 16,
   "metadata": {},
   "outputs": [
    {
     "name": "stdout",
     "output_type": "stream",
     "text": [
      "-------PaddedSeq----------\n",
      "[[  0   0   0   0   0   0   0   0   0   0   0   0   0   0   0   0   0   0\n",
      "    0   0   0   0   0   0   0   0   0 142  20]\n",
      " [  0   0   0   0   0   0   0   0   0   0   0   0   0   0   0   0   0   0\n",
      "    0   0   0   0   0   0   0   0 142  20   1]\n",
      " [  0   0   0   0   0   0   0   0   0   0   0   0   0   0   0   0   0   0\n",
      "    0   0   0   0   0   0   0 142  20   1 519]]\n",
      "-------X-Y Split----------\n",
      "[  0   0   0   0   0   0   0   0   0   0   0   0   0   0   0   0   0   0\n",
      "   0   0   0   0   0   0   0   0   0 142]-[20]\n",
      "[  0   0   0   0   0   0   0   0   0   0   0   0   0   0   0   0   0   0\n",
      "   0   0   0   0   0   0   0   0 142  20]-[1]\n",
      "[  0   0   0   0   0   0   0   0   0   0   0   0   0   0   0   0   0   0\n",
      "   0   0   0   0   0   0   0 142  20   1]-[519]\n",
      "-------X-Y final----------\n",
      "[  0   0   0   0   0   0   0   0   0   0   0   0   0   0   0   0   0   0\n",
      "   0   0   0   0   0   0   0   0   0 142]-[[0. 0. 0. ... 0. 0. 0.]]\n",
      "[  0   0   0   0   0   0   0   0   0   0   0   0   0   0   0   0   0   0\n",
      "   0   0   0   0   0   0   0   0 142  20]-[[0. 1. 0. ... 0. 0. 0.]]\n",
      "[  0   0   0   0   0   0   0   0   0   0   0   0   0   0   0   0   0   0\n",
      "   0   0   0   0   0   0   0 142  20   1]-[[0. 0. 0. ... 0. 0. 0.]]\n"
     ]
    }
   ],
   "source": [
    "# x: all words but last word\n",
    "# y: last word\n",
    "x=pad_inputseq[:,:-1]\n",
    "y=pad_inputseq[:,-1]\n",
    "\n",
    "print('-------PaddedSeq----------')\n",
    "print(pad_inputseq[0:3])\n",
    "print('-------X-Y Split----------')\n",
    "for i in range(3):\n",
    "    print(f'{x[i]}-[{y[i]}]')\n",
    "\n",
    "# One-hot for y\n",
    "y=tf.keras.utils.to_categorical(y,num_classes=total_words)\n",
    "print('-------X-Y final----------')\n",
    "for i in range(3):\n",
    "    print(f'{x[i]}-[{y[i]}]')\n",
    "\n",
    "\n",
    "# Train Test Split\n",
    "x_train, x_test, y_train, y_test = train_test_split(x,y, test_size = 0.2)"
   ]
  },
  {
   "cell_type": "markdown",
   "metadata": {},
   "source": [
    "## Training LSTM"
   ]
  },
  {
   "cell_type": "code",
   "execution_count": 17,
   "metadata": {},
   "outputs": [],
   "source": [
    "from tensorflow.keras.models import Sequential\n",
    "from tensorflow.keras.layers import Embedding, LSTM, Dense, Dropout"
   ]
  },
  {
   "cell_type": "code",
   "execution_count": 18,
   "metadata": {},
   "outputs": [
    {
     "name": "stdout",
     "output_type": "stream",
     "text": [
      "Model: \"sequential_3\"\n",
      "_________________________________________________________________\n",
      " Layer (type)                Output Shape              Param #   \n",
      "=================================================================\n",
      " embedding_3 (Embedding)     (None, 28, 100)           204600    \n",
      "                                                                 \n",
      " lstm_4 (LSTM)               (None, 28, 150)           150600    \n",
      "                                                                 \n",
      " dropout_2 (Dropout)         (None, 28, 150)           0         \n",
      "                                                                 \n",
      " lstm_5 (LSTM)               (None, 100)               100400    \n",
      "                                                                 \n",
      " dense_2 (Dense)             (None, 2046)              206646    \n",
      "                                                                 \n",
      "=================================================================\n",
      "Total params: 662246 (2.53 MB)\n",
      "Trainable params: 662246 (2.53 MB)\n",
      "Non-trainable params: 0 (0.00 Byte)\n",
      "_________________________________________________________________\n"
     ]
    }
   ],
   "source": [
    "model=Sequential()\n",
    "model.add(Embedding(total_words, 100, input_length=max_seq_len-1))\n",
    "model.add(LSTM(150,return_sequences=True))\n",
    "model.add(Dropout(0.2))\n",
    "model.add(LSTM(100))\n",
    "model.add(Dense(total_words,activation='softmax'))\n",
    "\n",
    "model.compile(loss=\"categorical_crossentropy\", optimizer='adam', metrics=['accuracy'])\n",
    "model.summary()"
   ]
  },
  {
   "cell_type": "code",
   "execution_count": null,
   "metadata": {},
   "outputs": [],
   "source": [
    "#Model Train\n",
    "history = model.fit(x_train, y_train, epochs=50, validation_data=(x_test, y_test), verbose=1)"
   ]
  },
  {
   "cell_type": "markdown",
   "metadata": {},
   "source": [
    "## Predict next 5 words"
   ]
  },
  {
   "cell_type": "code",
   "execution_count": 126,
   "metadata": {},
   "outputs": [
    {
     "name": "stdout",
     "output_type": "stream",
     "text": [
      "USCIS will not accept a\n",
      "USCIS will not accept a stamped\n",
      "USCIS will not accept a stamped or\n",
      "USCIS will not accept a stamped or typewritten\n",
      "USCIS will not accept a stamped or typewritten name\n"
     ]
    }
   ],
   "source": [
    "input_text = 'USCIS will not accept'\n",
    "\n",
    "for _ in range(5):\n",
    "    max_sequence_len = model.input_shape[1]+1\n",
    "    next_word = predict_next_word(model, tokens, input_text, max_sequence_len)\n",
    "    input_text += ' '+next_word\n",
    "    print(input_text)"
   ]
  },
  {
   "cell_type": "code",
   "execution_count": 127,
   "metadata": {},
   "outputs": [
    {
     "name": "stderr",
     "output_type": "stream",
     "text": [
      "C:\\Users\\patel\\AppData\\Roaming\\Python\\Python311\\site-packages\\keras\\src\\engine\\training.py:3103: UserWarning: You are saving your model as an HDF5 file via `model.save()`. This file format is considered legacy. We recommend using instead the native Keras format, e.g. `model.save('my_model.keras')`.\n",
      "  saving_api.save_model(\n"
     ]
    }
   ],
   "source": [
    "#Save Model weights\n",
    "model.save(\"next_word_LSTM.h5\")\n",
    "## Save the tokenizer\n",
    "import pickle\n",
    "with open('tokens.pickle','wb') as handle:\n",
    "    pickle.dump(tokens,handle,protocol=pickle.HIGHEST_PROTOCOL)"
   ]
  },
  {
   "cell_type": "code",
   "execution_count": null,
   "metadata": {},
   "outputs": [],
   "source": []
  }
 ],
 "metadata": {
  "kernelspec": {
   "display_name": "Python 3",
   "language": "python",
   "name": "python3"
  },
  "language_info": {
   "codemirror_mode": {
    "name": "ipython",
    "version": 3
   },
   "file_extension": ".py",
   "mimetype": "text/x-python",
   "name": "python",
   "nbconvert_exporter": "python",
   "pygments_lexer": "ipython3",
   "version": "3.11.9"
  }
 },
 "nbformat": 4,
 "nbformat_minor": 2
}
